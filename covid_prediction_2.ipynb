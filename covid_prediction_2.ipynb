{
  "cells": [
    {
      "cell_type": "markdown",
      "metadata": {
        "id": "view-in-github",
        "colab_type": "text"
      },
      "source": [
        "<a href=\"https://colab.research.google.com/github/Hema0054/NLP-TRAINING-ASS/blob/main/covid_prediction_2.ipynb\" target=\"_parent\"><img src=\"https://colab.research.google.com/assets/colab-badge.svg\" alt=\"Open In Colab\"/></a>"
      ]
    },
    {
      "cell_type": "code",
      "execution_count": null,
      "metadata": {
        "colab": {
          "background_save": true,
          "base_uri": "https://localhost:8080/",
          "height": 424
        },
        "id": "xZu9-wuGyjf1",
        "outputId": "586a4b8d-1197-495c-af9b-7631e6f3d97b"
      },
      "outputs": [
        {
          "data": {
            "text/html": [
              "\n",
              "  <div id=\"df-df3ec035-79ef-4205-af35-8bb7312f6636\">\n",
              "    <div class=\"colab-df-container\">\n",
              "      <div>\n",
              "<style scoped>\n",
              "    .dataframe tbody tr th:only-of-type {\n",
              "        vertical-align: middle;\n",
              "    }\n",
              "\n",
              "    .dataframe tbody tr th {\n",
              "        vertical-align: top;\n",
              "    }\n",
              "\n",
              "    .dataframe thead th {\n",
              "        text-align: right;\n",
              "    }\n",
              "</style>\n",
              "<table border=\"1\" class=\"dataframe\">\n",
              "  <thead>\n",
              "    <tr style=\"text-align: right;\">\n",
              "      <th></th>\n",
              "      <th>dateRep</th>\n",
              "      <th>day</th>\n",
              "      <th>month</th>\n",
              "      <th>year</th>\n",
              "      <th>cases</th>\n",
              "      <th>deaths</th>\n",
              "      <th>countriesAndTerritories</th>\n",
              "      <th>geoId</th>\n",
              "      <th>countryterritoryCode</th>\n",
              "      <th>popData2019</th>\n",
              "      <th>continentExp</th>\n",
              "      <th>Cumulative_number_for_14_days_of_COVID-19_cases_per_100000</th>\n",
              "    </tr>\n",
              "  </thead>\n",
              "  <tbody>\n",
              "    <tr>\n",
              "      <th>0</th>\n",
              "      <td>14/12/2020</td>\n",
              "      <td>14.0</td>\n",
              "      <td>12.0</td>\n",
              "      <td>2020.0</td>\n",
              "      <td>746.0</td>\n",
              "      <td>6.0</td>\n",
              "      <td>Afghanistan</td>\n",
              "      <td>AF</td>\n",
              "      <td>AFG</td>\n",
              "      <td>38041757.0</td>\n",
              "      <td>Asia</td>\n",
              "      <td>9.013779</td>\n",
              "    </tr>\n",
              "    <tr>\n",
              "      <th>1</th>\n",
              "      <td>13/12/2020</td>\n",
              "      <td>13.0</td>\n",
              "      <td>12.0</td>\n",
              "      <td>2020.0</td>\n",
              "      <td>298.0</td>\n",
              "      <td>9.0</td>\n",
              "      <td>Afghanistan</td>\n",
              "      <td>AF</td>\n",
              "      <td>AFG</td>\n",
              "      <td>38041757.0</td>\n",
              "      <td>Asia</td>\n",
              "      <td>7.052776</td>\n",
              "    </tr>\n",
              "    <tr>\n",
              "      <th>2</th>\n",
              "      <td>12/12/2020</td>\n",
              "      <td>12.0</td>\n",
              "      <td>12.0</td>\n",
              "      <td>2020.0</td>\n",
              "      <td>113.0</td>\n",
              "      <td>11.0</td>\n",
              "      <td>Afghanistan</td>\n",
              "      <td>AF</td>\n",
              "      <td>AFG</td>\n",
              "      <td>38041757.0</td>\n",
              "      <td>Asia</td>\n",
              "      <td>6.868768</td>\n",
              "    </tr>\n",
              "    <tr>\n",
              "      <th>3</th>\n",
              "      <td>11/12/2020</td>\n",
              "      <td>11.0</td>\n",
              "      <td>12.0</td>\n",
              "      <td>2020.0</td>\n",
              "      <td>63.0</td>\n",
              "      <td>10.0</td>\n",
              "      <td>Afghanistan</td>\n",
              "      <td>AF</td>\n",
              "      <td>AFG</td>\n",
              "      <td>38041757.0</td>\n",
              "      <td>Asia</td>\n",
              "      <td>7.134266</td>\n",
              "    </tr>\n",
              "    <tr>\n",
              "      <th>4</th>\n",
              "      <td>10/12/2020</td>\n",
              "      <td>10.0</td>\n",
              "      <td>12.0</td>\n",
              "      <td>2020.0</td>\n",
              "      <td>202.0</td>\n",
              "      <td>16.0</td>\n",
              "      <td>Afghanistan</td>\n",
              "      <td>AF</td>\n",
              "      <td>AFG</td>\n",
              "      <td>38041757.0</td>\n",
              "      <td>Asia</td>\n",
              "      <td>6.968658</td>\n",
              "    </tr>\n",
              "    <tr>\n",
              "      <th>...</th>\n",
              "      <td>...</td>\n",
              "      <td>...</td>\n",
              "      <td>...</td>\n",
              "      <td>...</td>\n",
              "      <td>...</td>\n",
              "      <td>...</td>\n",
              "      <td>...</td>\n",
              "      <td>...</td>\n",
              "      <td>...</td>\n",
              "      <td>...</td>\n",
              "      <td>...</td>\n",
              "      <td>...</td>\n",
              "    </tr>\n",
              "    <tr>\n",
              "      <th>15139</th>\n",
              "      <td>10/6/2020</td>\n",
              "      <td>10.0</td>\n",
              "      <td>6.0</td>\n",
              "      <td>2020.0</td>\n",
              "      <td>54.0</td>\n",
              "      <td>0.0</td>\n",
              "      <td>Czechia</td>\n",
              "      <td>CZ</td>\n",
              "      <td>CZE</td>\n",
              "      <td>10649800.0</td>\n",
              "      <td>Europe</td>\n",
              "      <td>6.582283</td>\n",
              "    </tr>\n",
              "    <tr>\n",
              "      <th>15140</th>\n",
              "      <td>9/6/2020</td>\n",
              "      <td>9.0</td>\n",
              "      <td>6.0</td>\n",
              "      <td>2020.0</td>\n",
              "      <td>69.0</td>\n",
              "      <td>1.0</td>\n",
              "      <td>Czechia</td>\n",
              "      <td>CZ</td>\n",
              "      <td>CZE</td>\n",
              "      <td>10649800.0</td>\n",
              "      <td>Europe</td>\n",
              "      <td>6.507164</td>\n",
              "    </tr>\n",
              "    <tr>\n",
              "      <th>15141</th>\n",
              "      <td>8/6/2020</td>\n",
              "      <td>8.0</td>\n",
              "      <td>6.0</td>\n",
              "      <td>2020.0</td>\n",
              "      <td>61.0</td>\n",
              "      <td>0.0</td>\n",
              "      <td>Czechia</td>\n",
              "      <td>CZ</td>\n",
              "      <td>CZE</td>\n",
              "      <td>10649800.0</td>\n",
              "      <td>Europe</td>\n",
              "      <td>6.300588</td>\n",
              "    </tr>\n",
              "    <tr>\n",
              "      <th>15142</th>\n",
              "      <td>7/6/2020</td>\n",
              "      <td>7.0</td>\n",
              "      <td>6.0</td>\n",
              "      <td>2020.0</td>\n",
              "      <td>38.0</td>\n",
              "      <td>0.0</td>\n",
              "      <td>Czechia</td>\n",
              "      <td>CZ</td>\n",
              "      <td>CZE</td>\n",
              "      <td>10649800.0</td>\n",
              "      <td>Europe</td>\n",
              "      <td>6.356927</td>\n",
              "    </tr>\n",
              "    <tr>\n",
              "      <th>15143</th>\n",
              "      <td>6/</td>\n",
              "      <td>NaN</td>\n",
              "      <td>NaN</td>\n",
              "      <td>NaN</td>\n",
              "      <td>NaN</td>\n",
              "      <td>NaN</td>\n",
              "      <td>NaN</td>\n",
              "      <td>NaN</td>\n",
              "      <td>NaN</td>\n",
              "      <td>NaN</td>\n",
              "      <td>NaN</td>\n",
              "      <td>NaN</td>\n",
              "    </tr>\n",
              "  </tbody>\n",
              "</table>\n",
              "<p>15144 rows × 12 columns</p>\n",
              "</div>\n",
              "      <button class=\"colab-df-convert\" onclick=\"convertToInteractive('df-df3ec035-79ef-4205-af35-8bb7312f6636')\"\n",
              "              title=\"Convert this dataframe to an interactive table.\"\n",
              "              style=\"display:none;\">\n",
              "        \n",
              "  <svg xmlns=\"http://www.w3.org/2000/svg\" height=\"24px\"viewBox=\"0 0 24 24\"\n",
              "       width=\"24px\">\n",
              "    <path d=\"M0 0h24v24H0V0z\" fill=\"none\"/>\n",
              "    <path d=\"M18.56 5.44l.94 2.06.94-2.06 2.06-.94-2.06-.94-.94-2.06-.94 2.06-2.06.94zm-11 1L8.5 8.5l.94-2.06 2.06-.94-2.06-.94L8.5 2.5l-.94 2.06-2.06.94zm10 10l.94 2.06.94-2.06 2.06-.94-2.06-.94-.94-2.06-.94 2.06-2.06.94z\"/><path d=\"M17.41 7.96l-1.37-1.37c-.4-.4-.92-.59-1.43-.59-.52 0-1.04.2-1.43.59L10.3 9.45l-7.72 7.72c-.78.78-.78 2.05 0 2.83L4 21.41c.39.39.9.59 1.41.59.51 0 1.02-.2 1.41-.59l7.78-7.78 2.81-2.81c.8-.78.8-2.07 0-2.86zM5.41 20L4 18.59l7.72-7.72 1.47 1.35L5.41 20z\"/>\n",
              "  </svg>\n",
              "      </button>\n",
              "      \n",
              "  <style>\n",
              "    .colab-df-container {\n",
              "      display:flex;\n",
              "      flex-wrap:wrap;\n",
              "      gap: 12px;\n",
              "    }\n",
              "\n",
              "    .colab-df-convert {\n",
              "      background-color: #E8F0FE;\n",
              "      border: none;\n",
              "      border-radius: 50%;\n",
              "      cursor: pointer;\n",
              "      display: none;\n",
              "      fill: #1967D2;\n",
              "      height: 32px;\n",
              "      padding: 0 0 0 0;\n",
              "      width: 32px;\n",
              "    }\n",
              "\n",
              "    .colab-df-convert:hover {\n",
              "      background-color: #E2EBFA;\n",
              "      box-shadow: 0px 1px 2px rgba(60, 64, 67, 0.3), 0px 1px 3px 1px rgba(60, 64, 67, 0.15);\n",
              "      fill: #174EA6;\n",
              "    }\n",
              "\n",
              "    [theme=dark] .colab-df-convert {\n",
              "      background-color: #3B4455;\n",
              "      fill: #D2E3FC;\n",
              "    }\n",
              "\n",
              "    [theme=dark] .colab-df-convert:hover {\n",
              "      background-color: #434B5C;\n",
              "      box-shadow: 0px 1px 3px 1px rgba(0, 0, 0, 0.15);\n",
              "      filter: drop-shadow(0px 1px 2px rgba(0, 0, 0, 0.3));\n",
              "      fill: #FFFFFF;\n",
              "    }\n",
              "  </style>\n",
              "\n",
              "      <script>\n",
              "        const buttonEl =\n",
              "          document.querySelector('#df-df3ec035-79ef-4205-af35-8bb7312f6636 button.colab-df-convert');\n",
              "        buttonEl.style.display =\n",
              "          google.colab.kernel.accessAllowed ? 'block' : 'none';\n",
              "\n",
              "        async function convertToInteractive(key) {\n",
              "          const element = document.querySelector('#df-df3ec035-79ef-4205-af35-8bb7312f6636');\n",
              "          const dataTable =\n",
              "            await google.colab.kernel.invokeFunction('convertToInteractive',\n",
              "                                                     [key], {});\n",
              "          if (!dataTable) return;\n",
              "\n",
              "          const docLinkHtml = 'Like what you see? Visit the ' +\n",
              "            '<a target=\"_blank\" href=https://colab.research.google.com/notebooks/data_table.ipynb>data table notebook</a>'\n",
              "            + ' to learn more about interactive tables.';\n",
              "          element.innerHTML = '';\n",
              "          dataTable['output_type'] = 'display_data';\n",
              "          await google.colab.output.renderOutput(dataTable, element);\n",
              "          const docLink = document.createElement('div');\n",
              "          docLink.innerHTML = docLinkHtml;\n",
              "          element.appendChild(docLink);\n",
              "        }\n",
              "      </script>\n",
              "    </div>\n",
              "  </div>\n",
              "  "
            ],
            "text/plain": [
              "          dateRep  ...  Cumulative_number_for_14_days_of_COVID-19_cases_per_100000\n",
              "0      14/12/2020  ...                                           9.013779         \n",
              "1      13/12/2020  ...                                           7.052776         \n",
              "2      12/12/2020  ...                                           6.868768         \n",
              "3      11/12/2020  ...                                           7.134266         \n",
              "4      10/12/2020  ...                                           6.968658         \n",
              "...           ...  ...                                                ...         \n",
              "15139   10/6/2020  ...                                           6.582283         \n",
              "15140    9/6/2020  ...                                           6.507164         \n",
              "15141    8/6/2020  ...                                           6.300588         \n",
              "15142    7/6/2020  ...                                           6.356927         \n",
              "15143          6/  ...                                                NaN         \n",
              "\n",
              "[15144 rows x 12 columns]"
            ]
          },
          "execution_count": null,
          "metadata": {},
          "output_type": "execute_result"
        }
      ],
      "source": [
        "import pandas as pd\n",
        "import numpy as np\n",
        "import matplotlib.pyplot as plt\n",
        "pd.read_csv('/covid data set/data (2).csv')\n",
        "\n"
      ]
    },
    {
      "cell_type": "code",
      "execution_count": null,
      "metadata": {
        "colab": {
          "base_uri": "https://localhost:8080/"
        },
        "id": "zexJgm9P0EVX",
        "outputId": "fffaae84-8779-44c5-eb91-db785d3bb7ed"
      },
      "outputs": [
        {
          "data": {
            "text/plain": [
              "0      0\n",
              "1      0\n",
              "2      0\n",
              "3      0\n",
              "4      0\n",
              "      ..\n",
              "638    2\n",
              "639    2\n",
              "640    2\n",
              "641    2\n",
              "642    2\n",
              "Name: countriesAndTerritories, Length: 643, dtype: int64"
            ]
          },
          "execution_count": 11,
          "metadata": {},
          "output_type": "execute_result"
        }
      ],
      "source": [
        "sets=pd.read_csv('/covid data set/data (2).csv')\n",
        "from sklearn import preprocessing\n",
        "a=preprocessing.LabelEncoder()\n",
        "sets['countriesAndTerritories']=a.fit_transform(sets['countriesAndTerritories'])\n",
        "sets['countriesAndTerritories']"
      ]
    },
    {
      "cell_type": "code",
      "execution_count": null,
      "metadata": {
        "colab": {
          "base_uri": "https://localhost:8080/",
          "height": 295
        },
        "id": "YEX8nA9v3YRX",
        "outputId": "9373cd7d-6151-4a11-afea-fe41fd2b64a7"
      },
      "outputs": [
        {
          "data": {
            "image/png": "[encoded data removed]",
            "text/plain": [
              "<Figure size 432x288 with 1 Axes>"
            ]
          },
          "metadata": {},
          "output_type": "display_data"
        }
      ],
      "source": [
        "sets.plot(x='countriesAndTerritories',y='cases',style='o')\n",
        "plt.title('Covid prediction')\n",
        "plt.xlabel('countries')\n",
        "plt.ylabel('Cases')\n",
        "plt.show()"
      ]
    },
    {
      "cell_type": "code",
      "execution_count": null,
      "metadata": {
        "colab": {
          "base_uri": "https://localhost:8080/"
        },
        "id": "5uATnZK_4piJ",
        "outputId": "0cd79e2b-a36a-428d-e977-eb2b94987630"
      },
      "outputs": [
        {
          "name": "stdout",
          "output_type": "stream",
          "text": [
            "     countriesAndTerritories\n",
            "0                          0\n",
            "1                          0\n",
            "2                          0\n",
            "3                          0\n",
            "4                          0\n",
            "..                       ...\n",
            "638                        2\n",
            "639                        2\n",
            "640                        2\n",
            "641                        2\n",
            "642                        2\n",
            "\n",
            "[643 rows x 1 columns]\n",
            "     cases\n",
            "0      788\n",
            "1      879\n",
            "2      802\n",
            "3      873\n",
            "4      752\n",
            "..     ...\n",
            "638     17\n",
            "639     39\n",
            "640      0\n",
            "641     23\n",
            "642     22\n",
            "\n",
            "[643 rows x 1 columns]\n"
          ]
        }
      ],
      "source": [
        "x=sets.loc[:,[\"countriesAndTerritories\"]]\n",
        "y=sets.loc[:,[\"cases\"]]\n",
        "print(x)\n",
        "print(y)"
      ]
    },
    {
      "cell_type": "code",
      "execution_count": null,
      "metadata": {
        "colab": {
          "base_uri": "https://localhost:8080/"
        },
        "id": "SlzybIqr3sWn",
        "outputId": "4c5566af-d826-4810-95a4-ef29c8727170"
      },
      "outputs": [
        {
          "data": {
            "text/plain": [
              "LinearRegression()"
            ]
          },
          "execution_count": 19,
          "metadata": {},
          "output_type": "execute_result"
        }
      ],
      "source": [
        "from sklearn.model_selection import train_test_split\n",
        "x_train,x_test,y_train,y_test=train_test_split(x,y,test_size=0.2,random_state=0)\n",
        "from sklearn.linear_model import LinearRegression\n",
        "regressor=LinearRegression()\n",
        "regressor.fit(x_train,y_train)\n"
      ]
    },
    {
      "cell_type": "code",
      "execution_count": null,
      "metadata": {
        "colab": {
          "base_uri": "https://localhost:8080/"
        },
        "id": "sv7GI_jV5K8g",
        "outputId": "2bf6c41f-18dc-4247-e338-a731f5b6f65e"
      },
      "outputs": [
        {
          "name": "stdout",
          "output_type": "stream",
          "text": [
            "[581.34587571]\n"
          ]
        }
      ],
      "source": [
        "print(regressor.intercept_)"
      ]
    },
    {
      "cell_type": "code",
      "execution_count": null,
      "metadata": {
        "colab": {
          "base_uri": "https://localhost:8080/"
        },
        "id": "QQSUBxAE5AIe",
        "outputId": "8e535d9a-cece-4342-846b-0e1a16947c4d"
      },
      "outputs": [
        {
          "data": {
            "text/plain": [
              "array([[1518.34141791],\n",
              "       [ 581.34587571],\n",
              "       [1049.84364681],\n",
              "       [1049.84364681],\n",
              "       [1049.84364681],\n",
              "       [1518.34141791],\n",
              "       [ 581.34587571],\n",
              "       [1518.34141791],\n",
              "       [ 581.34587571],\n",
              "       [1049.84364681],\n",
              "       [1049.84364681],\n",
              "       [1049.84364681],\n",
              "       [1049.84364681],\n",
              "       [1049.84364681],\n",
              "       [1049.84364681],\n",
              "       [1049.84364681],\n",
              "       [1518.34141791],\n",
              "       [ 581.34587571],\n",
              "       [1049.84364681],\n",
              "       [1049.84364681],\n",
              "       [ 581.34587571],\n",
              "       [ 581.34587571],\n",
              "       [1049.84364681],\n",
              "       [ 581.34587571],\n",
              "       [ 581.34587571],\n",
              "       [1049.84364681],\n",
              "       [1049.84364681],\n",
              "       [1049.84364681],\n",
              "       [ 581.34587571],\n",
              "       [1049.84364681],\n",
              "       [ 581.34587571],\n",
              "       [ 581.34587571],\n",
              "       [ 581.34587571],\n",
              "       [ 581.34587571],\n",
              "       [ 581.34587571],\n",
              "       [ 581.34587571],\n",
              "       [1518.34141791],\n",
              "       [1518.34141791],\n",
              "       [1049.84364681],\n",
              "       [ 581.34587571],\n",
              "       [1049.84364681],\n",
              "       [1518.34141791],\n",
              "       [ 581.34587571],\n",
              "       [ 581.34587571],\n",
              "       [ 581.34587571],\n",
              "       [1518.34141791],\n",
              "       [ 581.34587571],\n",
              "       [ 581.34587571],\n",
              "       [ 581.34587571],\n",
              "       [1049.84364681],\n",
              "       [1049.84364681],\n",
              "       [1049.84364681],\n",
              "       [ 581.34587571],\n",
              "       [ 581.34587571],\n",
              "       [1049.84364681],\n",
              "       [1049.84364681],\n",
              "       [1049.84364681],\n",
              "       [ 581.34587571],\n",
              "       [ 581.34587571],\n",
              "       [ 581.34587571],\n",
              "       [ 581.34587571],\n",
              "       [1049.84364681],\n",
              "       [ 581.34587571],\n",
              "       [1049.84364681],\n",
              "       [1049.84364681],\n",
              "       [1518.34141791],\n",
              "       [ 581.34587571],\n",
              "       [1049.84364681],\n",
              "       [ 581.34587571],\n",
              "       [ 581.34587571],\n",
              "       [1518.34141791],\n",
              "       [ 581.34587571],\n",
              "       [1049.84364681],\n",
              "       [1518.34141791],\n",
              "       [ 581.34587571],\n",
              "       [1049.84364681],\n",
              "       [1049.84364681],\n",
              "       [ 581.34587571],\n",
              "       [ 581.34587571],\n",
              "       [ 581.34587571],\n",
              "       [ 581.34587571],\n",
              "       [1049.84364681],\n",
              "       [1049.84364681],\n",
              "       [1049.84364681],\n",
              "       [ 581.34587571],\n",
              "       [1049.84364681],\n",
              "       [1518.34141791],\n",
              "       [ 581.34587571],\n",
              "       [1049.84364681],\n",
              "       [1049.84364681],\n",
              "       [1518.34141791],\n",
              "       [1049.84364681],\n",
              "       [ 581.34587571],\n",
              "       [1049.84364681],\n",
              "       [1518.34141791],\n",
              "       [ 581.34587571],\n",
              "       [1049.84364681],\n",
              "       [1049.84364681],\n",
              "       [ 581.34587571],\n",
              "       [ 581.34587571],\n",
              "       [ 581.34587571],\n",
              "       [1049.84364681],\n",
              "       [ 581.34587571],\n",
              "       [ 581.34587571],\n",
              "       [1049.84364681],\n",
              "       [ 581.34587571],\n",
              "       [1049.84364681],\n",
              "       [1049.84364681],\n",
              "       [1049.84364681],\n",
              "       [ 581.34587571],\n",
              "       [1049.84364681],\n",
              "       [ 581.34587571],\n",
              "       [1049.84364681],\n",
              "       [1049.84364681],\n",
              "       [1518.34141791],\n",
              "       [1049.84364681],\n",
              "       [1049.84364681],\n",
              "       [1049.84364681],\n",
              "       [ 581.34587571],\n",
              "       [1049.84364681],\n",
              "       [1049.84364681],\n",
              "       [ 581.34587571],\n",
              "       [1049.84364681],\n",
              "       [ 581.34587571],\n",
              "       [1049.84364681],\n",
              "       [ 581.34587571],\n",
              "       [ 581.34587571],\n",
              "       [1049.84364681],\n",
              "       [1049.84364681]])"
            ]
          },
          "execution_count": 25,
          "metadata": {},
          "output_type": "execute_result"
        }
      ],
      "source": [
        "y_pred=regressor.predict(x_test)\n",
        "y_pred"
      ]
    },
    {
      "cell_type": "code",
      "execution_count": null,
      "metadata": {
        "colab": {
          "base_uri": "https://localhost:8080/",
          "height": 399
        },
        "id": "tH3R5k5r6XRh",
        "outputId": "771d57d4-6f90-4770-e27c-2e4057b60aab"
      },
      "outputs": [
        {
          "name": "stdout",
          "output_type": "stream",
          "text": [
            "                                              Actual                                          Predicted\n",
            "0       cases\n",
            "637     20\n",
            "165     45\n",
            "467   5737\n",
            "31...  [[1518.3414179104477], [581.3458757099459], [1...\n"
          ]
        },
        {
          "data": {
            "image/png": "[encoded data removed]",
            "text/plain": [
              "<Figure size 432x288 with 1 Axes>"
            ]
          },
          "metadata": {},
          "output_type": "display_data"
        }
      ],
      "source": [
        "f=pd.DataFrame({'Actual':[y_test],'Predicted':[y_pred]})\n",
        "print(df)\n",
        "plt.plot(y_test,y_pred,color='c')\n",
        "plt.title(\"covid prediction\")\n",
        "plt.xlabel(\"Countries\")\n",
        "plt.ylabel(\"Cases\")\n",
        "plt.show()"
      ]
    },
    {
      "cell_type": "code",
      "execution_count": null,
      "metadata": {
        "colab": {
          "base_uri": "https://localhost:8080/"
        },
        "id": "KVSeHuMD5Ol_",
        "outputId": "7fdfe79c-15b9-48a3-e565-4487e81442ea"
      },
      "outputs": [
        {
          "name": "stdout",
          "output_type": "stream",
          "text": [
            "Mean absolute error 1165.846186335251\n",
            "Mean squared error 11245854.507175254\n",
            "Root mean squared error 3353.483935726434\n"
          ]
        }
      ],
      "source": [
        "from sklearn import metrics\n",
        "print('Mean absolute error',metrics.mean_absolute_error(y_test,y_pred))\n",
        "print('Mean squared error',metrics.mean_squared_error(y_test,y_pred))\n",
        "print('Root mean squared error',np.sqrt(metrics.mean_squared_error(y_test,y_pred)))"
      ]
    }
  ],
  "metadata": {
    "colab": {
      "name": "covid prediction 2.ipynb",
      "provenance": [],
      "include_colab_link": true
    },
    "kernelspec": {
      "display_name": "Python 3",
      "name": "python3"
    },
    "language_info": {
      "name": "python"
    }
  },
  "nbformat": 4,
  "nbformat_minor": 0
}